{
 "cells": [
  {
   "cell_type": "code",
   "execution_count": 1250,
   "metadata": {},
   "outputs": [],
   "source": [
    "import pandas as pd\n",
    "import matplotlib.pyplot as plt\n",
    "from sklearn import model_selection\n",
    "from sklearn.tree import DecisionTreeClassifier\n",
    "from sklearn.linear_model import Perceptron\n",
    "from sklearn.neural_network import MLPClassifier\n",
    "from sklearn.svm import SVC\n",
    "from sklearn.naive_bayes import GaussianNB\n",
    "from sklearn.linear_model import LogisticRegression\n",
    "from sklearn.neighbors import KNeighborsClassifier\n",
    "from sklearn.ensemble import BaggingClassifier\n",
    "from sklearn.ensemble import RandomForestClassifier\n",
    "from sklearn.ensemble import AdaBoostClassifier\n",
    "from sklearn.ensemble import GradientBoostingClassifier\n",
    "from sklearn.preprocessing import StandardScaler\n",
    "from sklearn.ensemble import ExtraTreesClassifier"
   ]
  },
  {
   "cell_type": "code",
   "execution_count": 1251,
   "metadata": {},
   "outputs": [],
   "source": [
    "# Read in the dataset using Pandas into a dataframe\n",
    "df = pd.read_csv(\"http://archive.ics.uci.edu/ml/machine-learning-databases/balance-scale/balance-scale.data\", \n",
    "                 names = [\"Class Name\", \"Left-Weight\", \"Left-Distance\", \"Right-Weight\", \"Right-Distance\"])\n"
   ]
  },
  {
   "cell_type": "code",
   "execution_count": 1252,
   "metadata": {},
   "outputs": [
    {
     "name": "stdout",
     "output_type": "stream",
     "text": [
      "<class 'pandas.core.frame.DataFrame'>\n",
      "RangeIndex: 625 entries, 0 to 624\n",
      "Data columns (total 5 columns):\n",
      "Class Name        625 non-null object\n",
      "Left-Weight       625 non-null int64\n",
      "Left-Distance     625 non-null int64\n",
      "Right-Weight      625 non-null int64\n",
      "Right-Distance    625 non-null int64\n",
      "dtypes: int64(4), object(1)\n",
      "memory usage: 24.5+ KB\n"
     ]
    },
    {
     "data": {
      "text/html": [
       "<div>\n",
       "<style>\n",
       "    .dataframe thead tr:only-child th {\n",
       "        text-align: right;\n",
       "    }\n",
       "\n",
       "    .dataframe thead th {\n",
       "        text-align: left;\n",
       "    }\n",
       "\n",
       "    .dataframe tbody tr th {\n",
       "        vertical-align: top;\n",
       "    }\n",
       "</style>\n",
       "<table border=\"1\" class=\"dataframe\">\n",
       "  <thead>\n",
       "    <tr style=\"text-align: right;\">\n",
       "      <th></th>\n",
       "      <th>Class Name</th>\n",
       "      <th>Left-Weight</th>\n",
       "      <th>Left-Distance</th>\n",
       "      <th>Right-Weight</th>\n",
       "      <th>Right-Distance</th>\n",
       "    </tr>\n",
       "  </thead>\n",
       "  <tbody>\n",
       "    <tr>\n",
       "      <th>0</th>\n",
       "      <td>B</td>\n",
       "      <td>1</td>\n",
       "      <td>1</td>\n",
       "      <td>1</td>\n",
       "      <td>1</td>\n",
       "    </tr>\n",
       "    <tr>\n",
       "      <th>1</th>\n",
       "      <td>R</td>\n",
       "      <td>1</td>\n",
       "      <td>1</td>\n",
       "      <td>1</td>\n",
       "      <td>2</td>\n",
       "    </tr>\n",
       "    <tr>\n",
       "      <th>2</th>\n",
       "      <td>R</td>\n",
       "      <td>1</td>\n",
       "      <td>1</td>\n",
       "      <td>1</td>\n",
       "      <td>3</td>\n",
       "    </tr>\n",
       "    <tr>\n",
       "      <th>3</th>\n",
       "      <td>R</td>\n",
       "      <td>1</td>\n",
       "      <td>1</td>\n",
       "      <td>1</td>\n",
       "      <td>4</td>\n",
       "    </tr>\n",
       "    <tr>\n",
       "      <th>4</th>\n",
       "      <td>R</td>\n",
       "      <td>1</td>\n",
       "      <td>1</td>\n",
       "      <td>1</td>\n",
       "      <td>5</td>\n",
       "    </tr>\n",
       "  </tbody>\n",
       "</table>\n",
       "</div>"
      ],
      "text/plain": [
       "  Class Name  Left-Weight  Left-Distance  Right-Weight  Right-Distance\n",
       "0          B            1              1             1               1\n",
       "1          R            1              1             1               2\n",
       "2          R            1              1             1               3\n",
       "3          R            1              1             1               4\n",
       "4          R            1              1             1               5"
      ]
     },
     "execution_count": 1252,
     "metadata": {},
     "output_type": "execute_result"
    }
   ],
   "source": [
    "df.info()\n",
    "df.head()"
   ]
  },
  {
   "cell_type": "code",
   "execution_count": 1253,
   "metadata": {},
   "outputs": [],
   "source": [
    "# The data has categorical lablels in the Class Name column. Converting them to unique numerical values.\n",
    "df = df.replace('L',1)\n",
    "df = df.replace('B',2)\n",
    "df = df.replace('R',3)"
   ]
  },
  {
   "cell_type": "code",
   "execution_count": 1254,
   "metadata": {
    "collapsed": true
   },
   "outputs": [],
   "source": [
    "balance = df.values"
   ]
  },
  {
   "cell_type": "code",
   "execution_count": 1255,
   "metadata": {
    "collapsed": true
   },
   "outputs": [],
   "source": [
    "X,y = balance[:,1:5], balance[:,0:1]\n",
    "X,y = X.astype(float), y.astype(float)"
   ]
  },
  {
   "cell_type": "code",
   "execution_count": 1256,
   "metadata": {
    "collapsed": true
   },
   "outputs": [],
   "source": [
    "scaler = StandardScaler()"
   ]
  },
  {
   "cell_type": "code",
   "execution_count": 1257,
   "metadata": {},
   "outputs": [
    {
     "data": {
      "text/plain": [
       "StandardScaler(copy=True, with_mean=True, with_std=True)"
      ]
     },
     "execution_count": 1257,
     "metadata": {},
     "output_type": "execute_result"
    }
   ],
   "source": [
    "scaler.fit(X)"
   ]
  },
  {
   "cell_type": "code",
   "execution_count": 1258,
   "metadata": {},
   "outputs": [
    {
     "name": "stdout",
     "output_type": "stream",
     "text": [
      "[ 0.25107147  0.25240886  0.25411232  0.24240735]\n"
     ]
    }
   ],
   "source": [
    "X = scaler.transform(X)\n",
    "modelForAttributeImportance = ExtraTreesClassifier()\n",
    "modelForAttributeImportance.fit(X, y.ravel())\n",
    "print(modelForAttributeImportance.feature_importances_)"
   ]
  },
  {
   "cell_type": "code",
   "execution_count": 1259,
   "metadata": {
    "collapsed": true
   },
   "outputs": [],
   "source": [
    "models = []"
   ]
  },
  {
   "cell_type": "code",
   "execution_count": 1260,
   "metadata": {},
   "outputs": [],
   "source": [
    "models.append(('Decision Tree', DecisionTreeClassifier(\n",
    " criterion=\"entropy\",\n",
    " splitter=\"best\",\n",
    " max_depth=40,\n",
    " min_samples_split=3,\n",
    " min_samples_leaf=5,\n",
    " min_weight_fraction_leaf=0.,\n",
    " max_features=None,\n",
    " random_state=None,\n",
    " max_leaf_nodes=None,\n",
    " min_impurity_decrease=0.,\n",
    " min_impurity_split=None,\n",
    " class_weight=None,\n",
    " presort=False)))"
   ]
  },
  {
   "cell_type": "code",
   "execution_count": 1261,
   "metadata": {
    "collapsed": true
   },
   "outputs": [],
   "source": [
    "models.append(('Perceptron', Perceptron(\n",
    "penalty='l1',\n",
    "alpha=0.0002,\n",
    "fit_intercept=True,\n",
    "max_iter=1500,\n",
    "tol=0.0,\n",
    "shuffle=False,\n",
    "verbose=0,\n",
    "eta0=1.0,\n",
    "n_jobs=1,\n",
    "random_state=None,\n",
    "class_weight=None,\n",
    "warm_start=False,\n",
    "n_iter=None)))"
   ]
  },
  {
   "cell_type": "code",
   "execution_count": 1262,
   "metadata": {
    "collapsed": true
   },
   "outputs": [],
   "source": [
    "models.append(('Neural Net', MLPClassifier(\n",
    "hidden_layer_sizes=(8,3),\n",
    "activation=\"logistic\",\n",
    "solver='lbfgs',\n",
    "alpha=1e-5,\n",
    "batch_size='auto',\n",
    "learning_rate=\"constant\",\n",
    "learning_rate_init=0.004,\n",
    "power_t=0.5,\n",
    "max_iter=1000,\n",
    "shuffle=True,\n",
    "random_state=None,\n",
    "tol=1e-4,\n",
    "verbose=False,\n",
    "warm_start=False,\n",
    "momentum=0.9,\n",
    "nesterovs_momentum=True,\n",
    "early_stopping=False,\n",
    "validation_fraction=0.1,\n",
    "beta_1=0.9, beta_2=0.999,\n",
    "epsilon=1e-8)))"
   ]
  },
  {
   "cell_type": "code",
   "execution_count": 1263,
   "metadata": {
    "collapsed": true
   },
   "outputs": [],
   "source": [
    "models.append(('Deep Learning', MLPClassifier(\n",
    "hidden_layer_sizes=(10,10,10),\n",
    "activation=\"relu\",\n",
    "solver='lbfgs',\n",
    "alpha=1e-5,\n",
    "batch_size='auto',\n",
    "learning_rate=\"constant\",\n",
    "learning_rate_init=0.004,\n",
    "power_t=0.5,\n",
    "max_iter=1000,\n",
    "shuffle=True,\n",
    "random_state=None,\n",
    "tol=1e-4,\n",
    "verbose=False,\n",
    "warm_start=False,\n",
    "momentum=0.9,\n",
    "nesterovs_momentum=True,\n",
    "early_stopping=False,\n",
    "validation_fraction=0.1,\n",
    "beta_1=0.9, beta_2=0.999,\n",
    "epsilon=1e-8)))"
   ]
  },
  {
   "cell_type": "code",
   "execution_count": 1264,
   "metadata": {
    "collapsed": true
   },
   "outputs": [],
   "source": [
    "models.append(('SVM', SVC(\n",
    "C=1.0,\n",
    "kernel='sigmoid',\n",
    "degree=2,\n",
    "gamma='auto',\n",
    "coef0=0.0,\n",
    "shrinking=True,\n",
    "probability=False,\n",
    "tol=1e-3,\n",
    "cache_size=200,\n",
    "class_weight=None,\n",
    "verbose=False,\n",
    "max_iter=-1,\n",
    "decision_function_shape='ovo',\n",
    "random_state=None)))"
   ]
  },
  {
   "cell_type": "code",
   "execution_count": 1265,
   "metadata": {
    "collapsed": true
   },
   "outputs": [],
   "source": [
    "models.append(('Naive Bayes', GaussianNB(priors=None)))"
   ]
  },
  {
   "cell_type": "code",
   "execution_count": 1266,
   "metadata": {
    "collapsed": true
   },
   "outputs": [],
   "source": [
    "models.append(('Logistic Regression', LogisticRegression( \n",
    "penalty='l2',\n",
    "dual=False,\n",
    "tol=1e-4,\n",
    "C=1.0,\n",
    "fit_intercept=True,\n",
    "intercept_scaling=1,\n",
    "class_weight=None,\n",
    "random_state=None,\n",
    "solver='newton-cg',\n",
    "max_iter=200,\n",
    "multi_class='multinomial',\n",
    "verbose=0,\n",
    "warm_start=False,\n",
    "n_jobs=1)))"
   ]
  },
  {
   "cell_type": "code",
   "execution_count": 1267,
   "metadata": {},
   "outputs": [],
   "source": [
    "models.append(('K Neighbors Classifier', KNeighborsClassifier( \n",
    "n_neighbors=5,\n",
    "weights='distance',\n",
    "algorithm='auto',\n",
    "leaf_size=30,\n",
    "p=1,\n",
    "metric='minkowski',\n",
    "metric_params=None,\n",
    "n_jobs=1)))"
   ]
  },
  {
   "cell_type": "code",
   "execution_count": 1268,
   "metadata": {
    "collapsed": true
   },
   "outputs": [],
   "source": [
    "models.append(('Bagging Classifier', BaggingClassifier(\n",
    "base_estimator=None,\n",
    "n_estimators=14,\n",
    "max_samples=1.0,\n",
    "max_features=1.0,\n",
    "bootstrap=True,\n",
    "bootstrap_features=False,\n",
    "oob_score=False,\n",
    "warm_start=False,\n",
    "n_jobs=1,\n",
    "random_state=None,\n",
    "verbose=0)))"
   ]
  },
  {
   "cell_type": "code",
   "execution_count": 1269,
   "metadata": {
    "collapsed": true
   },
   "outputs": [],
   "source": [
    "models.append(('Random Forest Classifier', RandomForestClassifier(\n",
    "n_estimators=10,\n",
    "criterion=\"entropy\",\n",
    "max_depth=10,\n",
    "min_samples_split=4,\n",
    "min_samples_leaf=1,\n",
    "min_weight_fraction_leaf=0.,\n",
    "max_features=\"auto\",\n",
    "max_leaf_nodes=None,\n",
    "min_impurity_decrease=0.,\n",
    "min_impurity_split=None,\n",
    "bootstrap=True,\n",
    "oob_score=False,\n",
    "n_jobs=1,\n",
    "random_state=None,\n",
    "verbose=0,\n",
    "warm_start=False,\n",
    "class_weight=None)))"
   ]
  },
  {
   "cell_type": "code",
   "execution_count": 1270,
   "metadata": {
    "collapsed": true
   },
   "outputs": [],
   "source": [
    "models.append(('AdaBoost Classifier', AdaBoostClassifier(\n",
    "base_estimator=None,\n",
    "n_estimators=50,\n",
    "learning_rate=2.,\n",
    "algorithm='SAMME',\n",
    "random_state=None)))"
   ]
  },
  {
   "cell_type": "code",
   "execution_count": 1271,
   "metadata": {
    "collapsed": true
   },
   "outputs": [],
   "source": [
    "models.append(('Gradient Boosting Classifier', GradientBoostingClassifier(\n",
    "loss='deviance', \n",
    "learning_rate=0.2, \n",
    "n_estimators=100,\n",
    "subsample=1.0, \n",
    "criterion='friedman_mse', \n",
    "min_samples_split=2,\n",
    "min_samples_leaf=1, \n",
    "min_weight_fraction_leaf=0.,\n",
    "max_depth=2, \n",
    "min_impurity_decrease=0.,\n",
    "min_impurity_split=None, \n",
    "init=None,\n",
    "random_state=None, \n",
    "max_features=None, \n",
    "verbose=0,\n",
    "max_leaf_nodes=None, \n",
    "warm_start=False,\n",
    "presort='auto')))"
   ]
  },
  {
   "cell_type": "code",
   "execution_count": 1272,
   "metadata": {},
   "outputs": [
    {
     "name": "stdout",
     "output_type": "stream",
     "text": [
      "Average accuracy of all models:\n",
      "\n",
      "Decision Tree: 0.774731 0.060409\n",
      "Perceptron: 0.857783 0.053205\n",
      "Neural Net: 0.928111 0.046207\n",
      "Deep Learning: 0.964823 0.028507\n",
      "SVM: 0.881644 0.029594\n",
      "Naive Bayes: 0.878469 0.025634\n",
      "Logistic Regression: 0.856068 0.033967\n",
      "K Neighbors Classifier: 0.854736 0.070027\n",
      "Bagging Classifier: 0.806528 0.032354\n",
      "Random Forest Classifier: 0.813031 0.046921\n",
      "AdaBoost Classifier: 0.852944 0.076056\n",
      "Gradient Boosting Classifier: 0.891347 0.035077\n"
     ]
    }
   ],
   "source": [
    "results = []\n",
    "names = []\n",
    "scoring = 'accuracy'\n",
    "print(\"Average accuracy of all models:\\n\")\n",
    "for name, model in models:\n",
    "    kfold = model_selection.KFold(n_splits=10, random_state=0)\n",
    "    cv_results = model_selection.cross_val_score(model, X, y.ravel(), cv=kfold, scoring='accuracy')\n",
    "    results.append(cv_results)\n",
    "    names.append(name)\n",
    "    msg = \"%s: %f %f\" % (name, cv_results.mean(), cv_results.std() )\n",
    "    print(msg)"
   ]
  },
  {
   "cell_type": "code",
   "execution_count": 1273,
   "metadata": {},
   "outputs": [
    {
     "name": "stdout",
     "output_type": "stream",
     "text": [
      "Average precision of all models:\n",
      "\n",
      "Decision Tree: 0.773118\n",
      "Perceptron: 0.857783\n",
      "Neural Net: 0.950512\n",
      "Deep Learning: 0.969688\n",
      "SVM: 0.881644\n",
      "Naive Bayes: 0.878469\n",
      "Logistic Regression: 0.856068\n",
      "K Neighbors Classifier: 0.854736\n",
      "Bagging Classifier: 0.809831\n",
      "Random Forest Classifier: 0.822837\n",
      "AdaBoost Classifier: 0.852944\n",
      "Gradient Boosting Classifier: 0.892960\n"
     ]
    }
   ],
   "source": [
    "results2 = []\n",
    "names = []\n",
    "print(\"Average precision of all models:\\n\")\n",
    "for name, model in models:\n",
    "    kfold = model_selection.KFold(n_splits=10, random_state=0)\n",
    "    cv_results2 = model_selection.cross_val_score(model, X, y.ravel(), cv=kfold, scoring='precision_micro' )\n",
    "    results2.append(cv_results2)\n",
    "    names.append(name)\n",
    "    msg2 = \"%s: %f\" % (name, cv_results2.mean())\n",
    "    print(msg2)"
   ]
  }
 ],
 "metadata": {
  "kernelspec": {
   "display_name": "Python 3",
   "language": "python",
   "name": "python3"
  },
  "language_info": {
   "codemirror_mode": {
    "name": "ipython",
    "version": 3
   },
   "file_extension": ".py",
   "mimetype": "text/x-python",
   "name": "python",
   "nbconvert_exporter": "python",
   "pygments_lexer": "ipython3",
   "version": "3.6.3"
  }
 },
 "nbformat": 4,
 "nbformat_minor": 2
}
